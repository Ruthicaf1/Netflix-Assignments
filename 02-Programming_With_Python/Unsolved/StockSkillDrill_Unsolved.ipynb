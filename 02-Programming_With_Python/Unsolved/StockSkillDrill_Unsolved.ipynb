{
 "cells": [
  {
   "cell_type": "code",
   "execution_count": 2,
   "metadata": {},
   "outputs": [],
   "source": [
    "# Import the 'os' and 'csv' libraries\n",
    "import os\n",
    "import csv"
   ]
  },
  {
   "cell_type": "code",
   "execution_count": 5,
   "metadata": {},
   "outputs": [
    {
     "data": {
      "text/plain": [
       "'..\\\\Resources\\\\yahoo_stock.csv'"
      ]
     },
     "execution_count": 5,
     "metadata": {},
     "output_type": "execute_result"
    }
   ],
   "source": [
    "# Set path for importing our CSV file\n",
    "file_path = os.path.join(\"..\",\"Resources\",\"yahoo_stock.csv\")\n",
    "file_path\n"
   ]
  },
  {
   "cell_type": "code",
   "execution_count": 33,
   "metadata": {},
   "outputs": [
    {
     "name": "stdout",
     "output_type": "stream",
     "text": [
      "CSV Header: {'Date': '11/23/2015', 'High': '2095.610107', 'Low': '2081.389893', 'Open': '2089.409912', 'Close': '2086.590088', 'Volume': '3587980000', 'Adj Close': '2086.590088'}\n",
      "{'Date': '11/30/2015', 'High': '2093.810059', 'Low': '2080.409912', 'Open': '2090.949951', 'Close': '2080.409912', 'Volume': '4275030000', 'Adj Close': '2080.409912', 'daily_perc_change': -0.5}\n",
      "{'Date': '12/1/2015', 'High': '2103.370117', 'Low': '2082.929932', 'Open': '2082.929932', 'Close': '2102.629883', 'Volume': '3712120000', 'Adj Close': '2102.629883', 'daily_perc_change': 0.95}\n",
      "{'Date': '12/2/2015', 'High': '2104.27002', 'Low': '2077.110107', 'Open': '2101.709961', 'Close': '2079.51001', 'Volume': '3950640000', 'Adj Close': '2079.51001', 'daily_perc_change': -1.06}\n",
      "{'Date': '12/3/2015', 'High': '2085', 'Low': '2042.349976', 'Open': '2080.709961', 'Close': '2049.620117', 'Volume': '4306490000', 'Adj Close': '2049.620117', 'daily_perc_change': -1.49}\n",
      "{'Date': '12/4/2015', 'High': '2093.840088', 'Low': '2051.23999', 'Open': '2051.23999', 'Close': '2091.689941', 'Volume': '4214910000', 'Adj Close': '2091.689941', 'daily_perc_change': 1.97}\n",
      "{'Date': '1/7/2016', 'High': '1985.319946', 'Low': '1938.829956', 'Open': '1985.319946', 'Close': '1943.089966', 'Volume': '5076590000', 'Adj Close': '1943.089966', 'daily_perc_change': -2.13}\n",
      "{'Date': '1/13/2016', 'High': '1950.329956', 'Low': '1886.410034', 'Open': '1940.339966', 'Close': '1890.280029', 'Volume': '5087030000', 'Adj Close': '1890.280029', 'daily_perc_change': -2.58}\n",
      "{'Date': '6/24/2016', 'High': '2103.810059', 'Low': '2032.569946', 'Open': '2103.810059', 'Close': '2037.410034', 'Volume': '7597450000', 'Adj Close': '2037.410034', 'daily_perc_change': -3.16}\n",
      "{'Date': '2/5/2018', 'High': '2763.389893', 'Low': '2638.169922', 'Open': '2741.060059', 'Close': '2648.939941', 'Volume': '5283460000', 'Adj Close': '2648.939941', 'daily_perc_change': -3.36}\n",
      "{'Date': '2/8/2018', 'High': '2685.27002', 'Low': '2580.560059', 'Open': '2685.01001', 'Close': '2581', 'Volume': '5305440000', 'Adj Close': '2581', 'daily_perc_change': -3.87}\n",
      "{'Date': '12/26/2018', 'High': '2467.76001', 'Low': '2346.580078', 'Open': '2363.120117', 'Close': '2467.699951', 'Volume': '4233990000', 'Adj Close': '2467.699951', 'daily_perc_change': 4.43}\n",
      "{'Date': '3/12/2020', 'High': '2660.949951', 'Low': '2478.860107', 'Open': '2630.860107', 'Close': '2480.639893', 'Volume': '8829380000', 'Adj Close': '2480.639893', 'daily_perc_change': -5.71}\n",
      "{'Date': '3/12/2020', 'High': '2660.949951', 'Low': '2478.860107', 'Open': '2630.860107', 'Close': '2480.639893', 'Volume': '8829380000', 'Adj Close': '2480.639893', 'daily_perc_change': -5.71}\n"
     ]
    }
   ],
   "source": [
    "# Open a connection to the comma-delimited csv file \n",
    "with open(file_path) as f:\n",
    "    # Read in the CSV file using csv.DictReader() class\n",
    "    reader = csv.DictReader(f)\n",
    "    \n",
    "    # Create a variable to save our print row and greatest daily percent change\n",
    "    csv_header = next(reader)\n",
    "    print(f\"CSV Header: {csv_header}\")\n",
    "    \n",
    "    # Iterate through each row\n",
    "    max_pct = {}\n",
    "    count = 0\n",
    "    for printrow in reader:  \n",
    "        # For each row, calculate the daily percent change\n",
    "        printrow[\"daily_perc_change\"] = round(float((float(printrow[\"Close\"]) - float(printrow[\"Open\"]))/float(printrow[\"Open\"])) * 100,2)\n",
    "        \n",
    "        \n",
    "        # Check if the absolute daily percent change is greater than the previous max\n",
    "        if count == 0:\n",
    "            max_pct = printrow\n",
    "        else:                           \n",
    "            # If true, store new greatest daily percent change and print row\n",
    "            if abs(printrow[\"daily_perc_change\"]) > abs(max_pct[\"daily_perc_change\"]):\n",
    "                max_pct = printrow\n",
    "                print(printrow)\n",
    "                \n",
    "        count = count + 1\n",
    "    # Print out the date, stock high, stock low, volume and percent change for the day with the greatest percent change\n",
    "    print(max_pct)"
   ]
  },
  {
   "cell_type": "code",
   "execution_count": 34,
   "metadata": {},
   "outputs": [
    {
     "data": {
      "text/plain": [
       "{'Date': '3/12/2020',\n",
       " 'High': '2660.949951',\n",
       " 'Low': '2478.860107',\n",
       " 'Open': '2630.860107',\n",
       " 'Close': '2480.639893',\n",
       " 'Volume': '8829380000',\n",
       " 'Adj Close': '2480.639893',\n",
       " 'daily_perc_change': -5.71}"
      ]
     },
     "execution_count": 34,
     "metadata": {},
     "output_type": "execute_result"
    }
   ],
   "source": [
    "max_pct"
   ]
  }
 ],
 "metadata": {
  "kernelspec": {
   "display_name": "Python 3",
   "language": "python",
   "name": "python3"
  },
  "language_info": {
   "codemirror_mode": {
    "name": "ipython",
    "version": 3
   },
   "file_extension": ".py",
   "mimetype": "text/x-python",
   "name": "python",
   "nbconvert_exporter": "python",
   "pygments_lexer": "ipython3",
   "version": "3.8.5"
  }
 },
 "nbformat": 4,
 "nbformat_minor": 4
}
